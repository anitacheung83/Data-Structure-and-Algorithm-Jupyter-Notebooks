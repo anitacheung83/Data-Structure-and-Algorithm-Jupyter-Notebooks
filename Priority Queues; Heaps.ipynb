{
 "cells": [
  {
   "cell_type": "markdown",
   "metadata": {},
   "source": [
    "# Priority Queues; Heaps\n",
    "\n",
    "## Priority Queues ADT\n",
    "* sequence of element\n",
    "* x.priority/satellite values\n",
    "* save heapsize\n",
    "* operations:\n",
    "    * ```insert(Q,x)```\n",
    "    * ```max(Q)```\n",
    "    * ```extract_max(Q)```\n",
    "    \n",
    "## Max-heap Representation\n",
    "* Children Node:\n",
    "    * left : 2i\n",
    "    * right: 2i + 1\n",
    "* Parent Node: floor(i // 2)"
   ]
  },
  {
   "cell_type": "code",
   "execution_count": 3,
   "metadata": {},
   "outputs": [],
   "source": [
    "import sys\n",
    "\n",
    "class MaxHeap:\n",
    "    def __init__(self, maxsize: int):\n",
    "        self.maxsize = maxsize\n",
    "        self.size = 0\n",
    "        self.Heap = [0] * (self.maxsize + 1)\n",
    "        self.Heap[0] = sys.maxsize\n",
    "        self.FRONT = 1\n",
    "    \n",
    "    def parent(self, pos: int):\n",
    "        return pos // 2\n",
    "    \n",
    "    def left_child(self, pos: int):\n",
    "        return pos * 2\n",
    "    \n",
    "    def right_child(self, pos: int):\n",
    "        return pos * 2 + 2\n",
    "        "
   ]
  },
  {
   "cell_type": "markdown",
   "metadata": {},
   "source": [
    "## insert(Q, x)\n",
    "1. Increment heapsize\n",
    "2. Insert element at index heapsize\n",
    "3. Bubble up (percolate up)\n",
    "\n",
    "Running Time: θ(log n)\n",
    "\n",
    "\n"
   ]
  },
  {
   "cell_type": "code",
   "execution_count": null,
   "metadata": {},
   "outputs": [],
   "source": [
    "class MaxHeap(MaxHeap):\n",
    "    def insert(self, element):\n",
    "        if self.size >= self.maxsize:\n",
    "            return\n",
    "        self.size += 1\n",
    "        self.Heap[self.size] = element\n",
    "        \n",
    "        curr = self.size\n",
    "        \n",
    "        while (self.Heap[curr] > self.Heap[self.parent(curr)]):\n",
    "            self.Heap[curr], self.Heap[self.parent(curr)] = self.Heap[self.parent(curr)], self.Heap[curr]\n",
    "            curr = self.parent(curr)\n",
    "        "
   ]
  },
  {
   "cell_type": "markdown",
   "metadata": {},
   "source": [
    "## extract_max(Q, x)\n",
    "1. Remove and return Q[1]\n",
    "2. Decrease heap-size by 1\n",
    "3. Move the element at heapsize index to the root\n",
    "4. Bubble down\n",
    "\n",
    "Running Time: θ(log n)"
   ]
  },
  {
   "cell_type": "code",
   "execution_count": null,
   "metadata": {},
   "outputs": [],
   "source": [
    "class MaxHeap(MaxHeap):\n",
    "    def extract_max(self):\n",
    "        self.Heap[heapsize], self.Heap[1] = self.Heap[1], self.Heap[heapsize]\n",
    "        self.heapsize -= 1\n",
    "        \n",
    "        curr = 1\n",
    "        left_child = self.left_child(curr)\n",
    "        right_child = self.right_child(curr)\n",
    "        \n",
    "        while (self.Heap[curr] < self.Heap[left_child] or self.Heap[curr] > self.Heap[right_child(curr)]):\n",
    "            if self.Heap[left_child] >= self.Heap[right_child]:\n",
    "                self.Heap[left_child], self.Heap[curr] = self.Heap[curr], self.Heap[left_child]\n",
    "                curr = left_child\n",
    "            else:\n",
    "                self.Heap[right_child], self.Heap[curr] = self.Heap[curr], self.Heap[right_child]\n",
    "                curr = right_child\n",
    "            \n",
    "                left_child = self.left_child(curr)\n",
    "                right_child = self.right_child(curr)\n",
    "        \n",
    "        return self.Heap[heapsize + 1]\n",
    "                "
   ]
  },
  {
   "cell_type": "markdown",
   "metadata": {},
   "source": [
    "## max-heapify(Q, x)\n",
    "1. Compare left child and right child\n",
    "2. Swap if max child node is greater than parents node\n",
    "3. Do it recursively\n",
    "\n",
    "Running Time: θ(log(n))"
   ]
  },
  {
   "cell_type": "code",
   "execution_count": 5,
   "metadata": {},
   "outputs": [],
   "source": [
    "class MaxHeap(MaxHeap):\n",
    "    def max_heapify(self, element):\n",
    "        left_child = self.left_child\n",
    "        right_child = self.right_child\n",
    "        largest = element\n",
    "        \n",
    "        if left_child <= self.heap_size and self.Heap[left_child] > self.Heap[largest]:\n",
    "            largest = left\n",
    "        if right_child <= self.heap_size and self.Heap[right_child] > self.Heap[largest]:\n",
    "            largest = right\n",
    "        \n",
    "        if largest != element:\n",
    "            max_heapify(self, largest)"
   ]
  },
  {
   "cell_type": "markdown",
   "metadata": {},
   "source": [
    "## heap_sort(Q)\n",
    "1. build a heap\n",
    "    ```for n to 1:\n",
    "            Q.max_heapify(i)```\n",
    "2. Swap root (index 1) with the last node (index heap size)\n",
    "3. Heapsize -1\n",
    "4. Max Heapify\n",
    "repeat 2 - 4\n",
    "\n",
    "Running Time: θ(nlog(n))"
   ]
  },
  {
   "cell_type": "code",
   "execution_count": 6,
   "metadata": {},
   "outputs": [],
   "source": [
    "class MaxHeap(MaxHeap):\n",
    "    def heap_sort(self):\n",
    "        n = self.heap_size\n",
    "        \n",
    "        for i in range(n, 0, -1):\n",
    "            self.Heap[self.heap_size], self.Heap[1] = self.Heap[1], self.Heap[self.heap_size]\n",
    "            self.heapsize -= 1\n",
    "            max_heapify(self, i)\n",
    "            "
   ]
  }
 ],
 "metadata": {
  "kernelspec": {
   "display_name": "Python 3",
   "language": "python",
   "name": "python3"
  },
  "language_info": {
   "codemirror_mode": {
    "name": "ipython",
    "version": 3
   },
   "file_extension": ".py",
   "mimetype": "text/x-python",
   "name": "python",
   "nbconvert_exporter": "python",
   "pygments_lexer": "ipython3",
   "version": "3.8.3"
  }
 },
 "nbformat": 4,
 "nbformat_minor": 4
}
