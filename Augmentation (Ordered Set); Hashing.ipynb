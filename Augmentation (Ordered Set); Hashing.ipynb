{
 "cells": [
  {
   "cell_type": "markdown",
   "id": "32b0a2ae",
   "metadata": {},
   "source": [
    "# Augmented Data Structures\n",
    "* **Definition**: Existing data structure modified to store more info and perform more operation\n",
    "\n",
    "* **General procedure**:\n",
    "    1. Choose data structure to augment\n",
    "    2. Determine additional information\n",
    "    3. Check additional information can be maintained during each original operation\n",
    "    4. Implement new operation\n",
    "    \n",
    "* **Examples**: \n",
    "\n",
    "    AVL Trees (augmented BST)\n",
    "    * Store height\n",
    "    * maintain balance\n",
    "    "
   ]
  },
  {
   "cell_type": "markdown",
   "id": "41e3d2fe",
   "metadata": {},
   "source": [
    "## Ordered Set\n",
    "* **Operations**: Search, Insert, Delete, Rank(k), Select(r)\n",
    "* **Objects**: set of comparable elements (no duplicates)\n",
    "* **Rank(k)**: return \"rank\" of key k\n",
    "    * r th smallest element of S\n",
    "* **Select(r)**: return the key with rank r."
   ]
  },
  {
   "cell_type": "markdown",
   "id": "a9128ef4",
   "metadata": {},
   "source": [
    "## AVL (original/ no changes)\n",
    "* Rank(k): inorder traversal until k is reached, where k is the key\n",
    "* Select(r): inorder traversal until r is reached, where r is the index\n",
    "\n",
    "Running Time: θ(n)"
   ]
  },
  {
   "cell_type": "markdown",
   "id": "0791e1c3",
   "metadata": {},
   "source": [
    "## AVL with node.rank \n",
    "* Rank(k): search with rank -> Search(k).rank\n",
    "* Select(r): search for rank\n",
    "    * Running Time: θ(log n)\n",
    "* Delete(k), Insert(k): \n",
    "    * Update the rank of every node\n",
    "    * Running Time: θ(n)"
   ]
  },
  {
   "cell_type": "markdown",
   "id": "4caf8a5e",
   "metadata": {},
   "source": [
    "## AVL with node.size\n",
    "* store size and calculate rank\n",
    "\n",
    "###  Rank(k)\n",
    "* when going to root.left, r stays the same\n",
    "* when going to root.right, r = r + left.size + 1\n",
    "* when k is found, return r + leaf.size + 1\n",
    "Running Time: θ(log n)\n",
    "\n",
    "### Select(r)\n",
    "* N with r = 1 + N.left.size\n",
    "* if r < N.left.size + 1, recurse N.left\n",
    "* if r > N.left.size + 1, recurse N.right\n",
    "    r = r - N.left.size - 1\n",
    "* if r = N.left.size + 1\n",
    "    return N.item\n",
    "    \n",
    "Running Time: θ(log n)\n",
    "\n",
    "### Insert(k)\n",
    "* increase size of every node from root to the insertion point\n",
    "* to account for replacements (so no ins) ???\n",
    "* after we run AVL insert, return root of new subtree + bool indicator\n",
    "\n",
    "Question: do you do this after or before rotation? \n",
    "\n",
    "Running Time: θ(log n)\n",
    "\n",
    "### Delete(k)\n",
    "* return a boolean + subtree.\n",
    "* decrease size of the affected nodes\n",
    "\n",
    "Running Time: θ(log n)"
   ]
  }
 ],
 "metadata": {
  "kernelspec": {
   "display_name": "Python 3",
   "language": "python",
   "name": "python3"
  },
  "language_info": {
   "codemirror_mode": {
    "name": "ipython",
    "version": 3
   },
   "file_extension": ".py",
   "mimetype": "text/x-python",
   "name": "python",
   "nbconvert_exporter": "python",
   "pygments_lexer": "ipython3",
   "version": "3.8.3"
  }
 },
 "nbformat": 4,
 "nbformat_minor": 5
}
