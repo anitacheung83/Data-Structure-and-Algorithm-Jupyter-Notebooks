{
 "cells": [
  {
   "cell_type": "markdown",
   "id": "456d5291",
   "metadata": {},
   "source": [
    "# AVL (Adelson-Velsky and Landis) Trees\n",
    "* BST with \"balancing condition\"\n",
    "* complete binary tree: 2^(h+1) -1 nodes stored in a binary tree of height h\n",
    "\n",
    "## Procedure\n",
    "1. Rebalance through rotation\n",
    "2. Detect imbalance through height\n",
    "\n",
    "## Balance Factor\n",
    "* the height of its right subtree minus the height of its left subtree\n",
    "* A node satisfie the AVL invariant if its balance factor is between -1 and +1.\n",
    "* right.height - left.height\n",
    "\n",
    "## General Approach for each Insert/Delete update\n",
    "1. Perform BST operation\n",
    "2. Maintain height information\n",
    "3. Rebalance if necessary\n"
   ]
  },
  {
   "cell_type": "markdown",
   "id": "2f97b458",
   "metadata": {},
   "source": [
    "## AVL Rotate\n",
    "    "
   ]
  },
  {
   "cell_type": "code",
   "execution_count": 3,
   "id": "1fabcefe",
   "metadata": {},
   "outputs": [],
   "source": [
    "def AVL_ROTATE_LEFT(parent):\n",
    "    \"\"\" Precondition: parent != NIL, parent.right != NIL\n",
    "    \"\"\"\n",
    "    # Rearrange references\n",
    "    child = parent.right\n",
    "    parent.right = child.left\n",
    "    child.left = parent\n",
    "    # Update heights\n",
    "    parent.height = 1 + max(parent.left.height, parent.right.height)\n",
    "    child.height = 1 + max(child.left.height, child.right.height)\n",
    "    # Return new parent\n",
    "    return child\n",
    "\n",
    "def AVL_ROTATE_RIGHT(parent):\n",
    "    \"\"\" Precondition: parent != NIL, parent.right != NIL\n",
    "    \"\"\"\n",
    "    # Rearrange references\n",
    "    child = parent.left\n",
    "    parent.left = child.right\n",
    "    child.right = parent\n",
    "    # Update heights\n",
    "    parent.height = 1 + max(parent.left.height, parent.right.height)\n",
    "    child.height = 1 + max(child.left.height, child.right.height)\n",
    "    # Return new parent\n",
    "    return child\n",
    "    "
   ]
  },
  {
   "cell_type": "markdown",
   "id": "502b73ed",
   "metadata": {},
   "source": [
    "## AVL Rebalance\n",
    "### single rotation\n",
    "* left single rotation: occur when right.height - left.height >= 2\n",
    "* right single rotation: occur when left.height - right.height >= 2\n",
    "### double rotation\n",
    "#### Left double rotation:\n",
    "* called by rebalance right\n",
    "* occurs when left.right.height > left.left.height\n",
    "#### Right double rotation:\n",
    "* called by rebalance left\n",
    "* right double rotation: occurs when right.left.height > right.right.height"
   ]
  },
  {
   "cell_type": "code",
   "execution_count": 4,
   "id": "39968221",
   "metadata": {},
   "outputs": [],
   "source": [
    "def AVL_REBALANCE_LEFT(root):\n",
    "    \"\"\"Precondition root is not NIL\n",
    "    \"\"\"\n",
    "    \n",
    "    # Recalculate height\n",
    "    root.height = 1 + max(root.left.height, root.right.height)\n",
    "    \n",
    "    # Rebalance if necessary\n",
    "    \n",
    "    if root.right.height > 1+ root.left.height:\n",
    "        # Perform double rotation if necessary\n",
    "        if root.right.left.height > root.right.right.height:\n",
    "            root.right = AVL_ROTATE_RIGHT(root.right)\n",
    "        root = AVL_ROTATE_LEFT(root)\n",
    "    return root\n",
    "        \n",
    "def AVL_REBALANCE_RIGHT(root):\n",
    "    \"\"\"Precondition root is not NIL\n",
    "    \"\"\"\n",
    "    # Recalculate height\n",
    "    root.height = 1 + max(root.left.height, root.right.height)\n",
    "    \n",
    "    # Rebalance if neccessary\n",
    "    \n",
    "    if root.left.height > 1 + root.right.height:\n",
    "        # Perform double rotation if necessary\n",
    "        if root.left.right.height > root.left.left.height:\n",
    "            root.left = AVL_ROTATE_LEFT(root.left)\n",
    "        root = AVL_ROTATE_RIGHT(root)\n",
    "    return root\n",
    "    "
   ]
  },
  {
   "cell_type": "markdown",
   "id": "62f88f9a",
   "metadata": {},
   "source": [
    "## AVL Insert\n",
    "Running Time: θ(log n)\n",
    "\n",
    "Maximumm number of rotations to rebalance: θ(n)"
   ]
  },
  {
   "cell_type": "code",
   "execution_count": 1,
   "id": "104bb6b1",
   "metadata": {},
   "outputs": [],
   "source": [
    "def AVL_INSERT(root, x):\n",
    "    if root is NULL: # Found insertion point\n",
    "        root = TreeNode(x) # Initial height = 0\n",
    "    elif x.key < root.item.key:\n",
    "        root.left = AVL_INSERT(root.left, x)\n",
    "        root = AVL_REBALANCE_RIGHT(root)\n",
    "    elif x.key > root.item.key:\n",
    "        root.right = AVL_INSERT(root.right, x)\n",
    "        root = AVL_REBALANCE_LEFT(root)\n",
    "    else:\n",
    "        root.item = x\n",
    "    return root\n"
   ]
  },
  {
   "cell_type": "markdown",
   "id": "38d58d82",
   "metadata": {},
   "source": [
    "## AVL Delete\n",
    "Running Time: θ(log n)\n",
    "\n",
    "Maximum number of rotations to rebalance: θ(log n)"
   ]
  },
  {
   "cell_type": "code",
   "execution_count": 2,
   "id": "6b072511",
   "metadata": {},
   "outputs": [],
   "source": [
    "def AVL_DELETE(root, x):\n",
    "    if root is NULL:\n",
    "        pass\n",
    "    elif x.key < root.item.key:\n",
    "        root.left = AVL_DELETE(root.left, x)\n",
    "        root = AVL_REBALANCE_LEFT(root)\n",
    "    elif x.key > root.item.key:\n",
    "        root.right = AVL_DELETE(root.right, x)\n",
    "        root = AVL_REBALANCE_RIGHT(root)\n",
    "    else:\n",
    "        if root.left is NULL:\n",
    "            root = root.right\n",
    "        elif root.right is NULL:\n",
    "            root = root.left\n",
    "        else:\n",
    "            if root.left.height > root.right.height:\n",
    "                root.item, root.left = AVL_DELETE_MAX(root.left)\n",
    "            else:\n",
    "                root.item, root.right = AVL_DELETE_MIN(root.right)\n",
    "            \n",
    "            root.height = 1 + max(root.left.height, root.right.height)\n",
    "        \n",
    "        return root"
   ]
  },
  {
   "cell_type": "code",
   "execution_count": 3,
   "id": "26602dd6",
   "metadata": {},
   "outputs": [],
   "source": [
    "def AVL_DELETE_MIN(root):\n",
    "    if root.left is NULL:\n",
    "        return root.item, root.right\n",
    "    else:\n",
    "        item, root.left = AVL_DELETE_MIN(root.left)\n",
    "        root = AVL_REBALANCE_LEFT(ROOT)\n",
    "        return item, root"
   ]
  },
  {
   "cell_type": "code",
   "execution_count": null,
   "id": "449581f7",
   "metadata": {},
   "outputs": [],
   "source": [
    "def AVL_DELETE_MAX(root):\n",
    "    if root.right is NULL:\n",
    "        return root.item, root.left\n",
    "    else:\n",
    "        item, root.right = AVL_DELETE_MAX(root.right)\n",
    "        root = AVL_REBALANCE_RIGHT(ROOT)\n",
    "        return item, root"
   ]
  },
  {
   "cell_type": "markdown",
   "id": "6edbe18e",
   "metadata": {},
   "source": [
    "## AVL Search\n",
    "Running Time: θ(log n)"
   ]
  },
  {
   "cell_type": "code",
   "execution_count": 5,
   "id": "7c16ec94",
   "metadata": {},
   "outputs": [],
   "source": [
    "def AVL_SEARCH(root, k):\n",
    "    if root is NULL:\n",
    "        pass\n",
    "    elif k < root.item.key:\n",
    "        AVL_SEARCH(root.left, k)\n",
    "    elif k > root.item.key:\n",
    "        AVL_SEARCH(root.right, k)\n",
    "    else:\n",
    "        pass\n",
    "    return root"
   ]
  }
 ],
 "metadata": {
  "kernelspec": {
   "display_name": "Python 3",
   "language": "python",
   "name": "python3"
  },
  "language_info": {
   "codemirror_mode": {
    "name": "ipython",
    "version": 3
   },
   "file_extension": ".py",
   "mimetype": "text/x-python",
   "name": "python",
   "nbconvert_exporter": "python",
   "pygments_lexer": "ipython3",
   "version": "3.8.3"
  }
 },
 "nbformat": 4,
 "nbformat_minor": 5
}
