{
 "cells": [
  {
   "cell_type": "markdown",
   "id": "572d5c1b",
   "metadata": {},
   "source": [
    "# Dictionary, Binary Search Tree\n",
    "\n",
    "## Dictionary ADT\n",
    "### Data\n",
    "* A set S of items, where each element x has a field x.key from some totally ordered set of possible keys.\n",
    "* The keys of the items in the dictionary are unique\n",
    "### Operations\n",
    "* Items have unique, ordered keys\n",
    "* ```insert(S, x)```: if x not in S, insert; else, y in S, y.key == x.key, then replace y by x\n",
    "* ```search(S, x)```: return x from S\n",
    "* ```delete(S, x)```: remove x from S\n",
    "### Element x\n",
    "* made up of keys and values"
   ]
  },
  {
   "cell_type": "markdown",
   "id": "6719cc7b",
   "metadata": {},
   "source": [
    "## Dictionary Implementation:\n",
    "|Data Structure | Search | Insert | Delete|\n",
    "| --------------|--------|--------|-------|\n",
    "|Unsorted Array | n      | n      | n     | \n",
    "|Sorted Array   |log (n) |n       | n     |\n",
    "|Unsorted Singly-Linked List| n |n |n|\n",
    "|Unsorted Doubly-Linked List |n |n |1|\n",
    "|Direct Access Table| 1|1|1|\n",
    "|Hash Table|n|n|n|\n",
    "|Binary Search Tree| n | n | n |\n",
    "|Balanced Search Tree| log(n)|log(n)|log(n)|"
   ]
  },
  {
   "cell_type": "markdown",
   "id": "c5b9e11e",
   "metadata": {},
   "source": [
    "## Binary Search Tree\n",
    "* ordering: left <= node <= right\n",
    "* store: s.root, s.size\n",
    "\n",
    "### BST Traversal Ordering\n",
    "\n",
    "#### Inorder:\n",
    "Left, Root, Right\n",
    "\n",
    "#### Preorder\n",
    "Root, Left, Right\n",
    "\n",
    "#### Postorder\n",
    "Left, Right, Root\n"
   ]
  },
  {
   "cell_type": "markdown",
   "id": "c8d15056",
   "metadata": {},
   "source": [
    "## BST Insert\n",
    "* Running Time: θ(n)\n",
    "* Balanced Running Time: θ(log n)"
   ]
  },
  {
   "cell_type": "code",
   "execution_count": 5,
   "id": "94cbe4ee",
   "metadata": {},
   "outputs": [],
   "source": [
    "def insert(S, k):\n",
    "    S.root = BST_Inert(s.root, k)\n",
    "    \n",
    "def BST_insert(root, k):\n",
    "    if root == NULL:\n",
    "        root = BSTNode(k)\n",
    "    elif root.item.key < k.key:\n",
    "        root.right = BST_insert(root.right, k)\n",
    "    elif root.item.key > k.key:\n",
    "        root.left = BST_insert(root.left, k)\n",
    "    else:\n",
    "        root.item = x\n",
    "    return root"
   ]
  },
  {
   "cell_type": "markdown",
   "id": "846ad252",
   "metadata": {},
   "source": [
    "## BST Search\n",
    "* Running Time: θ(n)\n",
    "* Balanced Running Time: θ(log n)"
   ]
  },
  {
   "cell_type": "code",
   "execution_count": 4,
   "id": "c006bbdc",
   "metadata": {},
   "outputs": [],
   "source": [
    "def search(S, k):\n",
    "    node = BST_search(S.root, k)\n",
    "    if node == NULL:\n",
    "        return NULL\n",
    "    return node.item\n",
    "\n",
    "def BST_search(root, k):\n",
    "    if root == k:\n",
    "        return root\n",
    "    elif root == NULL:\n",
    "        return NULL\n",
    "    elif root < k:\n",
    "        BST_search(root.left, k)\n",
    "    else: # Root >k\n",
    "        BST_search(root.right, k)\n",
    "        "
   ]
  },
  {
   "cell_type": "markdown",
   "id": "31c7b659",
   "metadata": {},
   "source": [
    "## BST Delete\n",
    "* Running Time: θ(n)\n",
    "* Balanced Running time: θ(log n)\n",
    "* parameter x is a direct pointer to where we can access the element we want to delete in the data structure"
   ]
  },
  {
   "cell_type": "code",
   "execution_count": 8,
   "id": "a51d3132",
   "metadata": {},
   "outputs": [],
   "source": [
    "def delete(S, x):\n",
    "    s.root = BST_delete(s.root, x)\n",
    "\n",
    "def BST_delete(root, x):\n",
    "    if root == NULL:\n",
    "        pass\n",
    "    elif root.key > x.key:\n",
    "        root.left = BST_delete(root.left, x)\n",
    "    elif root.key < x.key:\n",
    "        root.right = BST_delete(root.right, x)\n",
    "    else:\n",
    "        if root.left == NULL:\n",
    "            root = root.right\n",
    "        elif root.right == NULL:\n",
    "            root = root.left\n",
    "        else:\n",
    "            root.item, root.right = BST_del_min(root.right) \n",
    "            \n",
    "def BST_del_min(root):\n",
    "    if root.left == NULL:\n",
    "        return root.item, root.right # Return root.right since root is less than root.right, where the root is on the left branch. Therefore, it can only be replaced by something bigger than root.\n",
    "    else:\n",
    "        root.item, root.left = BST_del_min(root.left)\n",
    "        return root.item, root\n",
    "    "
   ]
  }
 ],
 "metadata": {
  "kernelspec": {
   "display_name": "Python 3",
   "language": "python",
   "name": "python3"
  },
  "language_info": {
   "codemirror_mode": {
    "name": "ipython",
    "version": 3
   },
   "file_extension": ".py",
   "mimetype": "text/x-python",
   "name": "python",
   "nbconvert_exporter": "python",
   "pygments_lexer": "ipython3",
   "version": "3.8.3"
  }
 },
 "nbformat": 4,
 "nbformat_minor": 5
}
