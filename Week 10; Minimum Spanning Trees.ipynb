{
 "cells": [
  {
   "cell_type": "markdown",
   "id": "32311cfc",
   "metadata": {},
   "source": [
    "# Minimum Spanning Trees"
   ]
  },
  {
   "cell_type": "markdown",
   "id": "e2df8f08",
   "metadata": {},
   "source": [
    "## Applications of DFS\n",
    "### Strongly Connected Components\n",
    "> Def: directed G is strongly connected iff \n",
    ">> $\\forall u, v \\in V, G \\text{ has } u - v \\text{ path and } v - u$ path\n",
    "* Weakly connected: $\\forall u, v, \\in V, G$ has $u - v$ path or $v - u$ path\n",
    "* Strongly connected component C, subset of V:\n",
    "    * C strongly connected\n",
    "    * C maximal: adding another vertex with break the property\n",
    "    * $\\therefore$ there are noc ucles between strongly connected components"
   ]
  },
  {
   "cell_type": "markdown",
   "id": "71e2ab2c",
   "metadata": {},
   "source": [
    "### Algorithm\n",
    "1. Run DFS on *reverse \n",
    "2. Run DFS on the original graph, order: in decreasing order of f[v] from 1\n",
    "3. Each tree in DFS forest from 2 is a strongly connected component\n",
    "\n",
    "Running Time: $\\theta(n + m)$"
   ]
  },
  {
   "cell_type": "markdown",
   "id": "9ba7ff1b",
   "metadata": {},
   "source": [
    "## Minimum Spanning Trees: Input and Details\n",
    "* Input: connected, undirected weighted graph G, each edge $ e \\in E$ is assigned a cost/weight $w(e) \\in R$\n",
    "* Output: find a spanning tree of G with smallest total weight\n",
    "* Note: in any connected graph, spanning trees satisfy:\n",
    "    * connected\n",
    "    * acyclic\n",
    "    * contains n - 1 edges, |v| = n\n",
    "    * adding any edge, form a cucle\n",
    "    * removing any edge, disconnected into two subtrees"
   ]
  },
  {
   "cell_type": "markdown",
   "id": "f2a66739",
   "metadata": {},
   "source": [
    "## Prim's Algorithm\n",
    "### Idea\n",
    "* pick a root (any $ r \\in V$) and \"grow\" MST by connected one isolated vertex at a time\n",
    "* priority queue holds isolated vertices.\n",
    "* priority[v] = minimum weight of any edge to T\n",
    "* $\\pi$[v] = parent of v for edge of weight priority[v]\n",
    "\n",
    "$\\emptyset$$\\infty$\n",
    "\n",
    "### Algorithm\n",
    "w: adj lists to store weights of each edge\n",
    "* **Note: Decrease-Key(v)**\n",
    "    * position/index of V, pos[v]\n",
    "    * used to update the weight of nodes not yet included in the tree\n",
    "\n",
    "* **Running Time**\n",
    "    * Initializing - $\\theta$(n)\n",
    "    * n iterations of main loop\n",
    "        * n extract min - $\\theta$(nlogn)\n",
    "    * for loop &rarr; all adj lists - $\\theta$ (mlogn)\n",
    "    * Total = $\\theta$((n+m) log n)\n",
    "* Fibonacci Heaps: $\\theta$ (m + nlogn)\n"
   ]
  },
  {
   "cell_type": "code",
   "execution_count": 4,
   "id": "cbac4d03",
   "metadata": {},
   "outputs": [
    {
     "ename": "IndentationError",
     "evalue": "unexpected indent (<ipython-input-4-590569db41cd>, line 3)",
     "output_type": "error",
     "traceback": [
      "\u001b[0;36m  File \u001b[0;32m\"<ipython-input-4-590569db41cd>\"\u001b[0;36m, line \u001b[0;32m3\u001b[0m\n\u001b[0;31m    T = ∅ #current tree edges\u001b[0m\n\u001b[0m    ^\u001b[0m\n\u001b[0;31mIndentationError\u001b[0m\u001b[0;31m:\u001b[0m unexpected indent\n"
     ]
    }
   ],
   "source": [
    "PRIM-MST(G, w) #G(V,E), W : E -> R, r in V):\n",
    "    #Initialized\n",
    "    T = ∅ #current tree edges\n",
    "    Q = MAKE-QUEUE() #m in-priority queue\n",
    "    \n",
    "    #Place all vertices in the queue\n",
    "    for all v in V:\n",
    "        priority[v] = ∞ # Priority\n",
    "        𝜋[v] = NIL # Predecessor\n",
    "        ENQUEUE(Q, V)\n",
    "    \n",
    "    # Now, set r as the root\n",
    "    priority[r] = 0\n",
    "    DECREASE_KEY(Q, r)\n",
    "    \n",
    "    # Main loop\n",
    "    while not Q.IsEmpty():\n",
    "        # Connect a vertex with min priority\n",
    "        u = Q.ExtractMin()\n",
    "        if 𝜋[u] != NULL:\n",
    "            # Update priorities for neighbours of u\n",
    "        for v in G.adj[u]:\n",
    "            if v in Q and w(u, v) < pri[v]: # if the weight between u and v is less than priority[v]\n",
    "                𝜋[v] = u\n",
    "                pri[v] = w(u, v)\n",
    "                Q.decrease-key(V)\n",
    "    \n",
    "    return T\n",
    "    "
   ]
  },
  {
   "cell_type": "markdown",
   "id": "6a69aec2",
   "metadata": {},
   "source": [
    "## Kruskal's Algorithm\n",
    "### Idea: BFS/DFS\n",
    "* look at edges in increasing weight order.\n",
    "* Options: BFS/DFS\n",
    "    * each O(n)\n",
    "    * m edges, O(mn) + sorting"
   ]
  },
  {
   "cell_type": "code",
   "execution_count": null,
   "id": "736fe72c",
   "metadata": {},
   "outputs": [],
   "source": [
    "KRUSKAL(G,w):\n",
    "    T = ∅\n",
    "    edges = sort_edges() # sort edges by weight\n",
    "    \n",
    "    for e in edges:\n",
    "        # ei = (ui, vi)\n",
    "        if ui, vi are not connected using edges:\n",
    "            T = T Union {ei}\n",
    "        "
   ]
  },
  {
   "cell_type": "markdown",
   "id": "5d6e9ebe",
   "metadata": {},
   "source": [
    "### Idea: Disjoint Set ADT\n",
    "* Input: A connected undirected graph G = (V, E) with edge weights w\n",
    "* Output: A minimum spanning tree defined by the edges X\n",
    "* Objects: Collection of nonempty disjoint sets\n",
    "    * no element in common with any other\n",
    "* Operation:\n",
    "    * MAKE_SET(x): \n",
    "        * Create a new set {x}\n",
    "    * FIND_SET(x):\n",
    "        * return the representative of the set that contains x\n",
    "        * convention: each set is identified by a representation (elm in set)\n",
    "    * UNION(x, y), let x \n",
    " * Sort: $\\theta$(mlogm)\n",
    " * Init: for v In V &rarr; $\\theta$(n)  (assuming MAKE_SET is constant)\n",
    " * Main loop:\n",
    "     * m diff values (edges)\n",
    "     * know that: up to n insertions/union)\n",
    "     * sequence of m disjoint set operations\n",
    "     * $\\theta$(m log m + n + WCSC for m disjoint set ops)"
   ]
  },
  {
   "cell_type": "code",
   "execution_count": null,
   "id": "9bd5563c",
   "metadata": {},
   "outputs": [],
   "source": [
    "MAKESET(v)\n",
    "    𝜋(v) = v\n",
    "    rank(v) = 0\n",
    "\n",
    "FIND(v):\n",
    "    while v != 𝜋(v):\n",
    "        v = 𝜋(v)\n",
    "    return v\n",
    "\n",
    "UNION(u, v):\n",
    "    ru = find(u)\n",
    "    rv = find(v)\n",
    "    \n",
    "    if ru == rv:\n",
    "        return\n",
    "    if rank(ru) > rank(rv):\n",
    "        𝜋(rv) = ru\n",
    "    else: \n",
    "        𝜋(ru) = rv\n",
    "        if rank(ru) = rank(rv):\n",
    "            rank(rv) = rank(rv) + 1\n",
    "\n",
    "KRUSKAL(G, w)\n",
    "    T = ∅\n",
    "    # Sort edges by weight\n",
    "    \n",
    "    for v in V:\n",
    "        MAKESET(v)\n",
    "    \n",
    "    for e in edges:\n",
    "        # ui, vi = ei\n",
    "        if FIND_SET(Ui) != FIND_SET(Vi): # If they are not in the same set together\n",
    "            UNION(Ui, Vi)\n",
    "            T = T + {ei}"
   ]
  }
 ],
 "metadata": {
  "kernelspec": {
   "display_name": "Python 3",
   "language": "python",
   "name": "python3"
  },
  "language_info": {
   "codemirror_mode": {
    "name": "ipython",
    "version": 3
   },
   "file_extension": ".py",
   "mimetype": "text/x-python",
   "name": "python",
   "nbconvert_exporter": "python",
   "pygments_lexer": "ipython3",
   "version": "3.11.2"
  }
 },
 "nbformat": 4,
 "nbformat_minor": 5
}
