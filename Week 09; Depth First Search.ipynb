{
 "cells": [
  {
   "cell_type": "markdown",
   "id": "d8678073",
   "metadata": {},
   "source": [
    "# Depth First Search\n",
    "Motivation: cycle detection\n",
    "$\\infty$\n"
   ]
  },
  {
   "cell_type": "code",
   "execution_count": null,
   "id": "5c187eeb",
   "metadata": {},
   "outputs": [],
   "source": [
    "DFS(G):\n",
    "    # Initialize\n",
    "    for each v in V:\n",
    "        d[v] = ∞ # discovery time\n",
    "        f[v] = ∞ # finish time\n",
    "        π[v] = NIL # parent in the DFS tree\n",
    "    time = 0 #global\n",
    "    \n",
    "    for each v in V:\n",
    "        if d[v] == ∞: #if v not visited\n",
    "            DFS-VISIT(G, v)\n",
    "\n",
    "DFS-VISIT(G, v):\n",
    "    # Mark discovery time\n",
    "    time = time + 1\n",
    "    d[v] = time\n",
    "    # Explore v's adjacency list\n",
    "    for each u in G.adj[v]:\n",
    "        if d[u] == ∞: # if u not visited\n",
    "            π[u] = v\n",
    "            DFS-VISIT(G, u)\n",
    "    # mark finsih time\n",
    "    time = time + 1\n",
    "    f[v] = time"
   ]
  },
  {
   "cell_type": "markdown",
   "id": "a4ac9ec6",
   "metadata": {},
   "source": [
    "## DFS Properties:\n",
    "* DFS visits all vertices and edges of G\n",
    "* Running time: $\\theta$(V+E)\n",
    "* DFS forms a depth-first forest comprised of >= 1 depth-first trees\n",
    "* each tree is made of edges(u, v)\n",
    "* DFS of an undirected graph yeilds only tree and back edges. No forward or cross edges\n",
    "* Discovery and finishing times have paraenthesis structure"
   ]
  },
  {
   "cell_type": "markdown",
   "id": "ebcd9394",
   "metadata": {},
   "source": [
    "### 1. Edge classification\n",
    "1. Tree edges: edges (u, v) is a tree edge if v was first discovered by exploring edge(u, v); \n",
    "   * the tree edges form a forest, the DF-forest\n",
    "   * (u, v) is discovered, d[v] = ∞\n",
    "2. Back edges: edges (u, v) connecting a vertex u to an ancestor v in a depth-first tree\n",
    "    * (u ,v) is discovered, d[v] < f[v] = ∞\n",
    "3. Forward edges: non-tree edges (u, v) connecting a vertex u to a descendant v\n",
    "    * d[u] < d[v] < f[v]\n",
    "4. Cross edges\n",
    "    * others "
   ]
  },
  {
   "cell_type": "markdown",
   "id": "17b45e05",
   "metadata": {},
   "source": [
    "### 2. Parenthesis Property/Theorem\n",
    "* **Theorem**: In any depth first search of (directed or undirected) graph G = (V, E), for any two vertices u and v, exactly one of the following three conditions holds\n",
    "1. The intervals [d[u], f[u]] and [d[v], f[v]] are entirely disjoint\n",
    "    * neither of u or v is a descendant of the other\n",
    "2. the interval [d[u], f[u]] entirely contains the interval [d[v]. f[v]]\n",
    "    * v is a descendant of u\n",
    "3. the interval [d[v], f[v]] entirely contains the interval [d[u], f[u]]\n",
    "    * u is a descendant of v\n",
    "    \n",
    "* **Proof**\n",
    "    * Assume d[u] < d[v]\n",
    "    Case 1: v is discovered in a recursive call from u\n",
    "        * v becomes a descendant of u, recursive calls are finished before u itself is finished\n",
    "        * f[v] < f[u]\n",
    "    Case 2: v is not discovered in a recursive call from u\n",
    "        * v is not reachable from u and not one of u's descendants\n",
    "        * v is discovered only after u is finished\n",
    "        * f[u] < d[v]\n",
    "        * u cannot become a descendant of v since it is already finished"
   ]
  },
  {
   "cell_type": "markdown",
   "id": "8b75d5b8",
   "metadata": {},
   "source": [
    "## Topological Sort\n",
    "* **Input**: directed, acyclic graph (DAG) G = (V, E)\n",
    "* **Output**: a linear ordering $v_1, v_2, ...v_n$ of the vertices such that if ($v_i, v_j$) $\\in E$ then i < j\n",
    "* every directed, acyclic graph has a topological order\n",
    "\n",
    "DAGS are useful for mdeling processes and structures that have a partial order\n",
    "\n",
    "**Partial order**\n",
    "* a > b and b > c &rarr; a > c\n",
    "* but may have a and b such that neither a > b nor b > a\n",
    "* a partial order can always be turned into a total order (either a > b or b > a for all a $\\neq$ b)\n",
    "\n",
    "**TopologicalSort(V, E)**\n",
    "1. call DFS(V, E) to compute finishing time f[v] for all $ v \\in E$\n",
    "2. output vertices in order to decreasing finishing time\n",
    "\n",
    "**Lemma**:\n",
    "* TopologicalSort(V, E) produces a topological sort of a directed acyclic graph G = (V, E)\n",
    "\n",
    "**Proof**\n",
    "* by contradiction \n",
    "* using the parenthesis structure of discovery and finsihing times\n",
    "* Let (u, v) $\\in E$ be an arbitrary edge.\n",
    "* Want to show: f[u] > f[v]\n",
    "* Consider the intervals [d[\\*], f[\\*]] and assume f[u] < f[v]\n",
    "    * Case 1: Nested structure, u is a descendant of v, G has a cycle\n",
    "    * Case 2: Disjoint\n",
    "        * When DFS-Visit(u) is called, v has not been discovered yet. DFS-Visit(u) examines all outgoing edges from u, also (u, v)\n",
    "\n",
    "**Running Time**:\n",
    "* We do not need to sort by finishing times\n",
    "* just output vertices as they are finsihed\n",
    "* $\\theta(V + E)$ for DFS and $\\theta(V)$ for output\n",
    "* $\\theta(V + E)$"
   ]
  }
 ],
 "metadata": {
  "kernelspec": {
   "display_name": "Python 3",
   "language": "python",
   "name": "python3"
  },
  "language_info": {
   "codemirror_mode": {
    "name": "ipython",
    "version": 3
   },
   "file_extension": ".py",
   "mimetype": "text/x-python",
   "name": "python",
   "nbconvert_exporter": "python",
   "pygments_lexer": "ipython3",
   "version": "3.8.3"
  }
 },
 "nbformat": 4,
 "nbformat_minor": 5
}
