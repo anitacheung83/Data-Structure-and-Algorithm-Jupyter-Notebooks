{
 "cells": [
  {
   "cell_type": "markdown",
   "id": "32311cfc",
   "metadata": {},
   "source": [
    "# Minimum Spanning Trees"
   ]
  },
  {
   "cell_type": "markdown",
   "id": "e2df8f08",
   "metadata": {},
   "source": [
    "## Applications of DFS - Strongly Connected Components\n",
    "> Def: directed G is strongly connected iff \n",
    ">> $\\forall u, v \\in V, G \\text{ has } u - v \\text{ path and } v - u$ path\n",
    "* Weakly connected: $\\forall u, v, \\in V, G$ has $u - v$ path or $v - u$ path\n",
    "* Strongly connected component C, subset of V:\n",
    "    * C strongly connected\n",
    "    * C maximal: adding another vertex with break the property\n",
    "    * $\\therefore$ there are noc ucles between strongly connected components"
   ]
  },
  {
   "cell_type": "markdown",
   "id": "71e2ab2c",
   "metadata": {},
   "source": [
    "## Algorithm\n",
    "1. Run DFS on *reverse \n",
    "2. Run DFS on the original graph, order: indecreasing order of f[v] from 1\n",
    "3. Each tree in DFS forest from 2 is a strongly connected component\n",
    "\n",
    "Running Time: $\\theta(n + m)$"
   ]
  },
  {
   "cell_type": "markdown",
   "id": "9ba7ff1b",
   "metadata": {},
   "source": [
    "## Minimum Spanning Tres: Input and Details\n",
    "* Input: connected, undirected weighted graph G, each edge $ e \\in E$ is assigned a cost/weight $w(e) \\in R$\n",
    "* Output: find a spanning tree of G with smallest total weight\n",
    "* Note: in any connected graph, spanning trees satisfy:\n",
    "    * connected\n",
    "    * acyclic\n",
    "    * contains n - 1 edges, |v| = n\n",
    "    * adding any edge, form a cucle\n",
    "    * removing any edge, disconnected into two subtrees"
   ]
  },
  {
   "cell_type": "markdown",
   "id": "f2a66739",
   "metadata": {},
   "source": [
    "## Prim's Algorithm\n"
   ]
  }
 ],
 "metadata": {
  "kernelspec": {
   "display_name": "Python 3",
   "language": "python",
   "name": "python3"
  },
  "language_info": {
   "codemirror_mode": {
    "name": "ipython",
    "version": 3
   },
   "file_extension": ".py",
   "mimetype": "text/x-python",
   "name": "python",
   "nbconvert_exporter": "python",
   "pygments_lexer": "ipython3",
   "version": "3.8.3"
  }
 },
 "nbformat": 4,
 "nbformat_minor": 5
}
