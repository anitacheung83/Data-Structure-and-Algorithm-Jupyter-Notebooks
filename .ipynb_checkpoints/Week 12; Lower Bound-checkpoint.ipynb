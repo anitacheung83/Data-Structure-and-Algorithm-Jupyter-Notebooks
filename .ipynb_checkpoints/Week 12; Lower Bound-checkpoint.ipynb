{
 "cells": [
  {
   "cell_type": "markdown",
   "id": "81cab65d",
   "metadata": {},
   "source": [
    "# Lower Bound\n",
    "* every algorithm takes time at least $\\Omega((f(n))$\n",
    "* know your limit\n",
    "\n",
    "## Problem Complexity\n",
    "* \"Complexity\": one algorithm/data structure\n",
    "* Problem complexity: efficiency (running time) of the most efficient algo\n",
    "    * e.g. sorting has complexity n log n\n",
    "* Lower bound on problem complexity:\n",
    "    * need to prove every algo required a certain minimum runtime."
   ]
  },
  {
   "cell_type": "markdown",
   "id": "356a2d35",
   "metadata": {},
   "source": [
    "## Comparison Trees\n",
    "* the worse case time complexity is proportional to the height of the tree\n",
    "* the number of leaves is L $\\leq 2^h$\n",
    "* the average case time complexity is proportional to the average depth of the leaves\n",
    "* represent algorithms whose main operation is comparisons:\n",
    "    * overall runtime is driven by the # of comparisons ( $<, \\leq, >, \\geq, =, \\neq, ...$)\n",
    "* For fixed input size, list all comparisons performed in the tree\n",
    "    * internal nodes: individual comparison\n",
    "    * children correspond to results\n",
    "    * leaves = # output. (outcome)\n",
    "* e.g. Binary Search algo\n",
    "    * output = index of x in A (x not in A)\n",
    "* $2^h \\geq n!, h \\geq log(n!) \\in \\Omega(nlogn)$"
   ]
  },
  {
   "cell_type": "markdown",
   "id": "5682059e",
   "metadata": {},
   "source": [
    "## Information Theory Lower Bound\n",
    "* Every tree with fixed branching factor (e.g. binary_ternary etc) and with L leaves has height $\\Omega$(log L)\n",
    "* Comparison trees:\n",
    "    * $\n",
    "\\begin{align}\n",
    "\\text{height} & = \\text{max path from root to leaf} \\\\\n",
    "& = \\text{max # comparisons for algo} \\\\\n",
    " & = \\text{W.C. running of algo}\n",
    "\\end{align}\n",
    "$\n",
    "\n",
    "### E.g. 1 Searching in a sorted list:\n",
    "* input: A[1, ...n] (sorted) element x\n",
    "* output: index $i\\in\\{1, ..., n\\} s.t. x = A[i], i = 0, x \\notin A$\n",
    "* Any algo used for this &rarr; comparison trees\n",
    "* In comparison trees for size n, there is at least one leaf for each output value &rarr; # leaves $\\geq$ n + 1\n",
    "* height is $\\Omega(log (n + 1))$ = W.C runtime\n",
    "\n",
    "### E.g. 2 Searching in unsorted lists:\n",
    "\n",
    "### E.g. 3 \n",
    "\n",
    "### Summary:\n",
    "* For comparison-based algorithms\n",
    "* Worst case # of comparisons ( on any input size n)\n",
    "* $\n",
    "\\begin{align}\n",
    "& = \\text{height of comparison tree for input size n} \\\\\n",
    "& \\geq log_{2}(\\text{# of leaves}) \\\\\n",
    "& \\geq log_{2}(\\text{# of output})\n",
    "\\end{align}\n",
    "$\n",
    "* worse-case # comparison $\\in \\Omega(log(\\text{# output})$"
   ]
  },
  {
   "cell_type": "markdown",
   "id": "6eb23f07",
   "metadata": {},
   "source": [
    "## Adversarial/Adversary Arguments\n",
    "e.g. Searching an unsorted list\n",
    "* input: list A[1, ..., n], elem.x\n",
    "* output: index $i \\in \\{1, ..., n\\} s.t. A[i] = x$ or $i = 0$ if $x \\notin A$\n",
    "* Assumption: only perform comparisons of the form \"x ?= A[j]\"\n",
    "* Intuition: SHow that every comparison tree that is \"not tall enough\" it must mistake somewhere\n",
    "* For contradiction, assume we have a comp tree that solves the problem, and has height < n.\n",
    "* Start at root. For each comparison \"x ? A[j]\", answer \"False\", consistent with selecting x different from each element.\n",
    "* When we reach the leaf - with output i.\n",
    "    * if i = 0 - let k be the index of an array element that was not been examined.\n",
    "    (There must be one k because height < n &rarr; not all the positions of A are examined).\n",
    "    A[k] = x (set this for contradiction)\n",
    "    * if i >0 - set A[k] $\\neq$ x\n",
    "* Idea: constriction is a method for discribing an input for which a comparison tree give the wrong answer\n",
    "\n",
    "e.g. Find maximum value in lists\n",
    "* Input: A[1, ..., n] unsorted (no dups)\n",
    "* Output: index i s.t. A[i] is max\n",
    "\n",
    "* Info Theory L.B $\\Omega(log n )$\n",
    "    * Comparisons: \"A[i] < A[j]\", $i \\neq j$\n",
    "    * Upperbound:\n",
    "    ```m = 1\n",
    "     for i = 2, 3, ..., n:\n",
    "         if A[i] > A[m]:\n",
    "             m = i\n",
    "     ```\n",
    "     * Try to match to lower bound. Assume some comp tree has height $\\leq$ n - 2\n",
    "* Intuition: every comparison \"A[i] < A[j]\" eleminates one element from being max.\n",
    "    * with n-2 comparison only, there are always at least 2 elements left\n",
    "    * whichever one the algo picks could be wrong\n"
   ]
  },
  {
   "cell_type": "markdown",
   "id": "99a8e6c1",
   "metadata": {},
   "source": [
    "Challenge question: Given n elements, what is the lower bound on the number of comparisons needed to determine both the maximum element and the minimum element?"
   ]
  }
 ],
 "metadata": {
  "kernelspec": {
   "display_name": "Python 3",
   "language": "python",
   "name": "python3"
  },
  "language_info": {
   "codemirror_mode": {
    "name": "ipython",
    "version": 3
   },
   "file_extension": ".py",
   "mimetype": "text/x-python",
   "name": "python",
   "nbconvert_exporter": "python",
   "pygments_lexer": "ipython3",
   "version": "3.8.3"
  }
 },
 "nbformat": 4,
 "nbformat_minor": 5
}
