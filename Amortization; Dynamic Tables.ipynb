{
 "cells": [
  {
   "cell_type": "markdown",
   "id": "691d94ac",
   "metadata": {},
   "source": [
    "# Amortized Analysis\n",
    "* Consider a sequence of n operations\n",
    "* Take the average of the worse-case running time of the operation over the sequence\n",
    "* Amortized sequence complexity = $\\frac{\\text{Worse Case Sequence Complexity}}{m}$\n",
    "* there is no probability involved in amortized complexity analysis\n",
    "\n",
    "## Methods:\n",
    "* Aggregate analysis\n",
    "* Accounting method\n",
    "\n",
    "## Examples:\n",
    "1. Multi-pop stack\n",
    "2. Binary counter\n",
    "3. Dynamic array"
   ]
  },
  {
   "cell_type": "markdown",
   "id": "70208642",
   "metadata": {},
   "source": [
    "## Aggregate (total sum) analysis\n",
    "\n",
    "* compute worse case running time T(n) for sequence of n operations\n",
    "* amortized cost of one operation: $\\frac{T(n)}{n}$"
   ]
  },
  {
   "cell_type": "markdown",
   "id": "a351b24c",
   "metadata": {},
   "source": [
    "## Accounting Method\n",
    "**Assign to each operation an amortized cost(\"coins\")**\n",
    "* $D_i$ = data structure after ith operation\n",
    "* $c_i$ = actual cost of ith operation\n",
    "* $\\hat{c}_{i}$ = amortized cose of ith operation = assigned coins\n",
    "\n",
    "\n",
    "* Falls $\\hat{c}_i > c_{i}$: Save unused coins in $D_{i}$\n",
    "* Falls $\\hat{c}_i < c_{i}$: Pay with saved coins\n",
    "* initial credit in $D_0$ is 0\n",
    "\n",
    "**Cost invariante**: saved coins $\\geq$ 0\n",
    "* <span style=\"color: blue\">Our task: choose amortized costs, such that invariant always holds</span>\n",
    "* for all j: $ \\sum_{i = 1}^{j} \\hat{c}_{i} - \\sum_{i=1}^{j} c_i \\leq 0$\n",
    "\n",
    "**Invariant implies**: total cost of n operations $\\leq$ sum of aggregate costs\n",
    "* $\\sum_{i=1}^{n} c_{i} \\leq \\sum_{i = 1}^{n} \\hat{c}_{i}$\n",
    "\n",
    "**Intuition**: \n",
    "* measure running time in coins (time is money)\n"
   ]
  },
  {
   "cell_type": "markdown",
   "id": "7d5eff19",
   "metadata": {},
   "source": [
    "## <span style=\"background-color: #FFFF00\">Example 1: Multiple-Pop Stack</span>\n",
    "\n",
    "* Push(S, x): inserts element x into S\n",
    "* Pop(S): removes and return the element last inserted into S"
   ]
  },
  {
   "cell_type": "code",
   "execution_count": null,
   "id": "344dab28",
   "metadata": {},
   "outputs": [],
   "source": [
    "S = empty stack\n",
    "for i = 1 to A.length\n",
    "    if A[i] <= S.size\n",
    "        Multipop(S, A[i]) # O(i) -> we won't be popping more element than i\n",
    "    Push(S, A[i])\n",
    "\n",
    "Multi-pop(S, k) # O(min(k, S.size))\n",
    "for i = 1 to k\n",
    "    Pop(S)"
   ]
  },
  {
   "cell_type": "markdown",
   "id": "50e0720e",
   "metadata": {},
   "source": [
    "### What is the running time of this algorithm for an array A of length n?\n",
    "$\\sum_{i=1}^{n} O(i) = O(n^2)$ &rarr; to pessimistic\n",
    "\n",
    "### Aggregate(total sum) Analysis:\n",
    "**Running time T(n)**:\n",
    "* \\# of Push operation $\\leq n$: O(n)\n",
    "* \\# of Pop $\\leq$ # of Push $\\leq$ n: O(n), including pop in multi-pop &rarr; we can only pop an element if we previously inserted it\n",
    "\n",
    "**Amortized running time per operation**:\n",
    "$$\\frac{T(n)}{n} = \\frac{O(n)}{n} = O(1)$$\n",
    "\n",
    "### Accounting Method:\n",
    "**Actual costs per operation**:\n",
    "* 1 coin per Push or Pop ($c_{i} = 1$)\n",
    "* k coins per Multi-pop(S, k)($c_i = k$)\n",
    "\n",
    "**Invariant**: Every element in the stack has a coin\n",
    "\n",
    "**Accounting($\\hat{c}_{i}$)**:\n",
    "\n",
    "Push(S, x): Assign 2 coins ($\\hat{c}_{i}$)\n",
    "* 1 coin pays for Push for x\n",
    "* 1 coin is \"saved\" with x &rarr; invariant maintained\n",
    "\n",
    "Pop(S): Assign 0 coins ($\\hat{c}_{i} = 0$)\n",
    "* coin saved with the removed element pays for pop &rarr; invariant maintain\n",
    "\n",
    "Multipop(S, k): Assign 0 coins ($\\hat{c}_{i} = 0$)\n",
    "* saved coins pay for pops -> invariant maintained\n",
    "\n",
    "Running time of a sequence of n Push, pop, multipop operations(starting from an empty stack) is in O(n). The amortized cose per operation is O($\\hat{c}_{i}$) = O(1)\n",
    "* invariant &rarr; Number of coins in data structure $\\sum_{i=1}^{n} \\hat{c}_i - \\sum_{i = 0}^{n} c_i \\geq 0$\n",
    "* amortized cose per operation $\\hat{c}_{i} \\leq 2$\n",
    "* actual total costs $\\sum_{i=1}^n c_i \\leq \\sum_{i=1}^n \\hat{c}_i \\leq \\sum_{i = 1}^{n} 2 = 2n$"
   ]
  },
  {
   "cell_type": "markdown",
   "id": "3f33e348",
   "metadata": {},
   "source": [
    "## <span style=\"background-color: #FFFF00\">Example 2: Binary Counter</span>\n",
    "* **Algorithm**: increment a k-bit binary counter\n",
    "\n",
    "* **Representation as array**: A[j]: jth least significant bit\n",
    "\n",
    "* Let k = 6\n",
    "\n",
    "\n",
    "|Initial Counter | Counter | Value | Cost |\n",
    "|----------------|---------|-------|------|\n",
    "| Increment | 000000| 0 | -|\n",
    "| Increment | 000001| 1 | 1|\n",
    "| Increment | 000010| 2 | 2|\n",
    "| Increment | 000011| 3 | 1|\n",
    "| Increment | 000100| 4 | 3|\n",
    "| Increment | 011110| 30 | 2|\n",
    "| Increment | 011111| 31 | 1|\n",
    "| Increment | 000000| 0 | 5|\n",
    "\n",
    "* **costs**: number of bits flipped per operation ( = O(k))\n",
    "* **running time**: worst case running time of sequence of n increment is O(kn) &rarr; to pessimistic\n",
    "\n",
    "### Aggregate Analysis\n",
    "* How often is A[i] flipped?\n",
    "\n",
    "| i  | # of times flipped|\n",
    "|----|-------------------|\n",
    "|A[0]| $\\frac{n}{2^0}$|\n",
    "|A[1]| $\\frac{n}{2^1}$|\n",
    "|A[2]| $\\frac{n}{2^2}$|\n",
    "|A[3]| $\\frac{n}{2^3}$|\n",
    "|A[4]| $\\frac{n}{2^4}$|\n",
    "|A[5]| $\\frac{n}{2^5}$|\n",
    "\n",
    "**Total cost**:\n",
    "\n",
    "$$ = \\sum_{i=0}^{k - 1} \\lfloor \\frac{n}{2^i} \\rfloor \\leq \\sum_{i=0}^{k-1} \\frac{n}{2^i} \\leq n \\sum_{i=0}^{\\infty} \\frac{1}{2^i} (\\text{by geometric series}) = 2n$$\n",
    "\n",
    "The worst-case running time T(n) of a sequence of n increments (starting from 0 ) is O(n). The amortized running time of one increment is T(n)/n = O(1).\n",
    "\n",
    "### Accounting method \n",
    "* Actual cost per operation: 1 coins per operation\n",
    "* Invariant: number of coins in data structure $\\sum_{i = 1}^{n} \\hat{c}_i - \\sum_{i = 1}^{n} c_i \\geq 0$\n",
    "* Accounting cost $\\hat{c}_{i}$\n",
    "    * Increment: assigns 2 coins $\\hat{c}_{i} = 2$\n",
    "    * 1 coin for flip 0 to 1\n",
    "    * 1 coin for flip 1 to 0\n",
    "    * Amortize cose per operation: $\\hat{c}_{i} \\leq 2$\n",
    "    * Actual cost: $\\sum_{i = 1}^{n} 2 = 2n$"
   ]
  },
  {
   "cell_type": "markdown",
   "id": "1b7ea6c6",
   "metadata": {},
   "source": [
    "## <span style=\"background-color: #FFFF00\"> Example 3: Dynamic Array </span>\n",
    "**implementation**\n",
    "* use static array\n",
    "* if full: create array of twice the size"
   ]
  },
  {
   "cell_type": "code",
   "execution_count": 5,
   "id": "fe3a6552",
   "metadata": {},
   "outputs": [],
   "source": [
    "def insert(A, x):\n",
    "    # Check whether current array is full\n",
    "    if A.size == A.allocated:\n",
    "        new_array = new_array_of_length(A.allocated * 2)\n",
    "        # copy all elements of A.array into new_array\n",
    "        A.array = new_array\n",
    "        A.allocated = A.allocated * 2\n",
    "    # insert the new element into the first empty spot\n",
    "    A.array[A.size]\n",
    "    A.size = A.size + 1"
   ]
  },
  {
   "cell_type": "markdown",
   "id": "f604e84b",
   "metadata": {},
   "source": [
    "**cost per insertion**\n",
    "* O(n) if n = 1 + power of 2, otherwise O(1)\n",
    "\n",
    "**simple analysis**\n",
    "* the running time of n insert operations is O(n^2) &rarr; to pessimistic\n",
    "\n",
    "### Aggregate Analysis:\n",
    "* $c_{i}$ = i + 1, if i is power of 2\n",
    "* $c_{i}$ = 1, otherwise\n",
    "* = $\\sum_{i =0}^{\\lfloor log(n) \\rfloor} 2^i + \\sum_{i=0}^{n} i$\n",
    "\n",
    "### Accounting Method: \n",
    "**actual cost of operation**\n",
    "* 1 coin to insert 1 element\n",
    "* n coins to copy n elements to a new array\n",
    "\n",
    "**Invariant**\n",
    "* every element in the right half of the array has 2 coins\n",
    "\n",
    "**Accounting cost ($\\hat{c}_{i}$)** = 3\n",
    "* assign 3 coins\n",
    "* 1 coin pays for the append. 2 coins are saved at the new element\n",
    "* if full: the whole right half (= n/2 elements) has 2 coins per element &rarr; overall there are n coins which can pay for the copying\n",
    "* The worse case running time T(n) of a sepquence of n append operations is O(n). The amortized running time of one append is O($\\hat{c}_i$) = O(1)"
   ]
  },
  {
   "cell_type": "markdown",
   "id": "ef3a54db",
   "metadata": {},
   "source": [
    "<span style=\"color: red\"> I don't know how to do question 5 on the quiz </span>"
   ]
  }
 ],
 "metadata": {
  "kernelspec": {
   "display_name": "Python 3",
   "language": "python",
   "name": "python3"
  },
  "language_info": {
   "codemirror_mode": {
    "name": "ipython",
    "version": 3
   },
   "file_extension": ".py",
   "mimetype": "text/x-python",
   "name": "python",
   "nbconvert_exporter": "python",
   "pygments_lexer": "ipython3",
   "version": "3.8.3"
  }
 },
 "nbformat": 4,
 "nbformat_minor": 5
}
